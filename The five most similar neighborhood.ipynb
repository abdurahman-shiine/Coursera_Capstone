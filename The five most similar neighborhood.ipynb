{
 "cells": [
  {
   "cell_type": "markdown",
   "metadata": {},
   "source": [
    "# Problem statement"
   ]
  },
  {
   "cell_type": "markdown",
   "metadata": {},
   "source": [
    "People move frequently from one city to another, perhaps one they have never been to before, be it for work or any other reason, and a lot of us would prefer to a place that most resembles the one they moved from, as it would be easier to adapt and live in. For this purpose, this project proposes an algorithm that measures the similarity between borough of different cities, based on their venues, and lists the most similar five boroughs in another city."
   ]
  },
  {
   "cell_type": "code",
   "execution_count": 1,
   "metadata": {},
   "outputs": [],
   "source": [
    "import re\n",
    "import folium\n",
    "import requests\n",
    "import numpy as np\n",
    "import pandas as pd\n",
    "import seaborn as sns\n",
    "import matplotlib.cm as cm\n",
    "import ipywidgets as widgets\n",
    "import matplotlib.colors as colors\n",
    "from geopy.exc import GeocoderTimedOut\n",
    "from geopy.geocoders import Nominatim\n",
    "from scipy.spatial.distance import cosine\n",
    "from pandas.io.json import json_normalize\n",
    "from ipywidgets import interact, interact_manual\n",
    "\n",
    "%matplotlib inline\n",
    "pd.set_option('display.max_rows', 1000)"
   ]
  },
  {
   "cell_type": "markdown",
   "metadata": {},
   "source": [
    "# Data"
   ]
  },
  {
   "cell_type": "markdown",
   "metadata": {},
   "source": [
    "## Description"
   ]
  },
  {
   "cell_type": "markdown",
   "metadata": {},
   "source": [
    "In this project, the boroughs of city of London will be compared with those of Paris to illustrate the idea. The data requried to meet that end is a list of London boroughs, a list of Paris boroughs, the list of venues in every borough. The first two lists are obtained from Wikipedia, while the last is from Foursquare."
   ]
  },
  {
   "cell_type": "code",
   "execution_count": 3,
   "metadata": {},
   "outputs": [
    {
     "name": "stdout",
     "output_type": "stream",
     "text": [
      "Your credentails:\n",
      "CLIENT_ID: W2K3FISCHVADQ5Q0EU4YYR50ASUUEHSVK0LLNSQ03P3YN320\n",
      "CLIENT_SECRET:VZQYGDL05PJ5SSLQ0NDKHF0F4Y44C5AN0K2Y2CRBZ1K2U23O\n"
     ]
    }
   ],
   "source": [
    "# Define Foursquare Credentials and Version\n",
    "CLIENT_ID = 'W2K3FISCHVADQ5Q0EU4YYR50ASUUEHSVK0LLNSQ03P3YN320' # your Foursquare ID\n",
    "CLIENT_SECRET = 'VZQYGDL05PJ5SSLQ0NDKHF0F4Y44C5AN0K2Y2CRBZ1K2U23O' # your Foursquare Secret\n",
    "VERSION = '20180605' # Foursquare API version\n",
    "\n",
    "print('Your credentails:')\n",
    "print('CLIENT_ID: ' + CLIENT_ID)\n",
    "print('CLIENT_SECRET:' + CLIENT_SECRET)"
   ]
  }
 ],
 "metadata": {
  "kernelspec": {
   "display_name": "Python 3",
   "language": "python",
   "name": "python3"
  },
  "language_info": {
   "codemirror_mode": {
    "name": "ipython",
    "version": 3
   },
   "file_extension": ".py",
   "mimetype": "text/x-python",
   "name": "python",
   "nbconvert_exporter": "python",
   "pygments_lexer": "ipython3",
   "version": "3.7.1"
  }
 },
 "nbformat": 4,
 "nbformat_minor": 2
}
